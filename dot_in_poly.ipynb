{
 "cells": [
  {
   "cell_type": "markdown",
   "metadata": {},
   "source": [
    "# Определение количества ресторанов в доступности у пользователя"
   ]
  },
  {
   "cell_type": "markdown",
   "metadata": {},
   "source": [
    "Для решения данной задачи я выбрал метод трассировки лучей. \n",
    "Данный метод заключается в проведении из точки с координатоми пользователя луча и подсчета пересечений луча с ребром полигона. Если луч пересекает нечетное количество ребер, значит точка находится внутри полигона. Если четное, то снаружи. "
   ]
  },
  {
   "cell_type": "code",
   "execution_count": null,
   "metadata": {},
   "outputs": [],
   "source": [
    "import pandas as pd"
   ]
  },
  {
   "cell_type": "code",
   "execution_count": null,
   "metadata": {},
   "outputs": [],
   "source": [
    "u_cor = pd.read_csv('user_coordinates.csv')\n",
    "cor = pd.read_csv('place_zone_coordinates.csv')"
   ]
  },
  {
   "cell_type": "markdown",
   "metadata": {},
   "source": [
    "### Функция, которая определяет, есть ли у луча точки пересечения с ребром с задаными координатами начала и конца."
   ]
  },
  {
   "cell_type": "code",
   "execution_count": null,
   "metadata": {},
   "outputs": [],
   "source": [
    "def inter_with_edge(x1_u, x2_u, y_u, x1_s, y1_s, x2_s, y2_s):\n",
    "    \n",
    "    xdiff = (x1_u - x2_u, x1_s - x2_s)\n",
    "    ydiff = (0, y1_s - y2_s)\n",
    "\n",
    "    def det(x1, y1, x2, y2):\n",
    "        return x1 * y2 - y1 * x2\n",
    "\n",
    "    div = det(xdiff[0], ydiff[0], xdiff[1], ydiff[1])\n",
    "    \n",
    "    if div == 0:\n",
    "        return 0\n",
    "    else:\n",
    "        d = (det(x1_u, y_u, x2_u, y_u), det(x1_s, y1_s, x2_s, y2_s))\n",
    "        x = det(d[0], d[1], xdiff[0], xdiff[1]) / div\n",
    "        y = det(d[0], d[1], ydiff[0], ydiff[1]) / div\n",
    "\n",
    "        if x >= x1_s and x <= x2_s and y >= y1_s and y <= y2_s and (x > x1_u) == (x2_u > x1_u):\n",
    "            return True\n",
    "        else:\n",
    "            return False"
   ]
  },
  {
   "cell_type": "markdown",
   "metadata": {},
   "source": [
    "Так как я выбрал горизонталный луч, то могут возникнуть ситуации, где данный луч будет проходить через вершину полигона. Для избежания данной ситуации, я создал функцию, которая задает луч, выходящий из точки под углом 45 градусов к обеим осям. Эта функция будет вызываться тогда, когда \"у\" координата точки совпадет с \"у\" координатой любой из вершин."
   ]
  },
  {
   "cell_type": "code",
   "execution_count": null,
   "metadata": {},
   "outputs": [],
   "source": [
    "def inter_with_edge2(x1_u, x2_u, y_u, x1_s, y1_s, x2_s, y2_s):\n",
    "    \n",
    "    xdiff = (x1_u - x2_u, x1_s - x2_s)\n",
    "    ydiff = (y_u - 2*y_u, y1_s - y2_s)\n",
    "\n",
    "    def det(x1, y1, x2, y2):\n",
    "        return x1 * y2 - y1 * x2\n",
    "\n",
    "    div = det(xdiff[0], ydiff[0], xdiff[1], ydiff[1])\n",
    "    \n",
    "    if div == 0:\n",
    "        return False\n",
    "    else:\n",
    "        d = (det(x1_u, y_u, x2_u, 2 * y_u), det(x1_s, y1_s, x2_s, y2_s))\n",
    "        x = det(d[0], d[1], xdiff[0], xdiff[1]) / div\n",
    "        y = det(d[0], d[1], ydiff[0], ydiff[1]) / div\n",
    "\n",
    "        if x >= x1_s and x <= x2_s and y >= y1_s and y <= y2_s and (x > x1_u) == (x2_u > x1_u):\n",
    "            return True\n",
    "        else:\n",
    "            return False"
   ]
  },
  {
   "cell_type": "markdown",
   "metadata": {},
   "source": [
    "### Функция, определяющиая количество пересечений луча с ребрами полигона."
   ]
  },
  {
   "cell_type": "code",
   "execution_count": null,
   "metadata": {},
   "outputs": [],
   "source": [
    "def inter_with_poly(x1_u, x2_u, y_u, x, y):\n",
    "    counter = 0\n",
    "    for i in range(len(x)):\n",
    "        if y_u != y[i]:\n",
    "            if i != (len(x) - 1):\n",
    "                c = inter_with_edge(x1_u, x2_u, y_u, x[i], y[i], x[i+1], y[i+1])\n",
    "            else:\n",
    "                c = inter_with_edge(x1_u, x2_u, y_u, x[i], y[i], x[0], y[0])\n",
    "            if c == True:\n",
    "                counter+= 1\n",
    "        else:\n",
    "            if i != (len(x) - 1):\n",
    "                c = inter_with_edge2(x1_u, x2_u, y_u, x[i], y[i], x[i+1], y[i+1])\n",
    "            else:\n",
    "                c = inter_with_edge2(x1_u, x2_u, y_u, x[i], y[i], x[0], y[0])\n",
    "            if c == True:\n",
    "                counter+= 1\n",
    "    return counter % 2"
   ]
  },
  {
   "cell_type": "code",
   "execution_count": null,
   "metadata": {},
   "outputs": [],
   "source": [
    "result = 0\n",
    "for a,row in u_cor.iterrows():\n",
    "    x1_u = row['loc_lat']\n",
    "    x2_u = 200\n",
    "    y_u = row['loc_lon']\n",
    "    unique = cor['place_id'].unique()\n",
    "    for i in unique:\n",
    "        x = []\n",
    "        y = []\n",
    "        count = cor[cor['place_id'] == i]['point_number'].count()\n",
    "        place = cor[cor['place_id'] == i]\n",
    "        for j in range(len(place)):\n",
    "            y.append(float(place[place['place_id'] == i][place['point_number'] == j]['loc_lon']))\n",
    "            x.append(float(place[place['place_id'] == i][place['point_number'] == j]['loc_lat']))\n",
    "        result = result + inter_with_poly(x1_u, x2_u, y_u, x, y)\n",
    "    print(a, result)\n",
    "    result = 0"
   ]
  }
 ],
 "metadata": {
  "kernelspec": {
   "display_name": "Python 3",
   "language": "python",
   "name": "python3"
  },
  "language_info": {
   "codemirror_mode": {
    "name": "ipython",
    "version": 3
   },
   "file_extension": ".py",
   "mimetype": "text/x-python",
   "name": "python",
   "nbconvert_exporter": "python",
   "pygments_lexer": "ipython3",
   "version": "3.8.3"
  }
 },
 "nbformat": 4,
 "nbformat_minor": 4
}
